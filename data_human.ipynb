{
  "nbformat": 4,
  "nbformat_minor": 0,
  "metadata": {
    "colab": {
      "provenance": []
    },
    "kernelspec": {
      "name": "python3",
      "display_name": "Python 3"
    },
    "language_info": {
      "name": "python"
    }
  },
  "cells": [
    {
      "cell_type": "code",
      "execution_count": 1,
      "metadata": {
        "id": "eh751eVhoqS4"
      },
      "outputs": [],
      "source": [
        "from google.colab import drive"
      ]
    },
    {
      "cell_type": "code",
      "source": [
        "import zipfile"
      ],
      "metadata": {
        "id": "qhUB3irpwYwS"
      },
      "execution_count": 2,
      "outputs": []
    },
    {
      "cell_type": "code",
      "source": [
        "path = '/content/archive (1).zip'"
      ],
      "metadata": {
        "id": "PTyVR_IKwglr"
      },
      "execution_count": 3,
      "outputs": []
    },
    {
      "cell_type": "code",
      "source": [
        "zip_object = zipfile.ZipFile(file =path , mode = 'r')"
      ],
      "metadata": {
        "id": "wprA-qfowgnt"
      },
      "execution_count": 6,
      "outputs": []
    },
    {
      "cell_type": "code",
      "source": [
        "zip_object.extractall('./')"
      ],
      "metadata": {
        "id": "JTp9PEZuwgp3"
      },
      "execution_count": 7,
      "outputs": []
    },
    {
      "cell_type": "code",
      "source": [
        "zip_object.close()"
      ],
      "metadata": {
        "id": "K3Uq_UArwgr9"
      },
      "execution_count": 8,
      "outputs": []
    },
    {
      "cell_type": "code",
      "source": [
        "import tensorflow as tf"
      ],
      "metadata": {
        "id": "8rGSlxQ1xF0w"
      },
      "execution_count": 9,
      "outputs": []
    },
    {
      "cell_type": "code",
      "source": [
        "tf.keras.preprocessing.image.load_img('/content/train/neutral/Training_10002154.jpg')"
      ],
      "metadata": {
        "colab": {
          "base_uri": "https://localhost:8080/",
          "height": 65
        },
        "id": "si4P2dW-xK0L",
        "outputId": "20154634-1c28-464e-c2a0-a93303460fbe"
      },
      "execution_count": 15,
      "outputs": [
        {
          "output_type": "execute_result",
          "data": {
            "text/plain": [
              "<PIL.Image.Image image mode=RGB size=48x48 at 0x7FB085A78850>"
            ],
            "image/png": "[encoded data removed]"
          },
          "metadata": {},
          "execution_count": 15
        }
      ]
    },
    {
      "cell_type": "code",
      "source": [
        "import os"
      ],
      "metadata": {
        "id": "iAhHoBxSxxBj"
      },
      "execution_count": 16,
      "outputs": []
    },
    {
      "cell_type": "code",
      "source": [
        "folder_path = \"/content/test/surprise\"\n",
        "file_list1 = os.listdir(folder_path)\n",
        "file_count1 = len(file_list1)\n",
        "\n",
        "folder_path2 = \"/content/train/surprise\"\n",
        "file_list2 = os.listdir(folder_path2)\n",
        "file_count2 = len(file_list2)\n",
        "print(file_count1+file_count2)\n",
        "\n",
        "angry_total = 4953\n",
        "disgust_total = 547\n",
        "fear_total = 5121\n",
        "happy_total = 8989\n",
        "neutral_total = 6198\n",
        "sad_total = 6077\n",
        "surprise = 4002\n",
        "\n"
      ],
      "metadata": {
        "colab": {
          "base_uri": "https://localhost:8080/"
        },
        "id": "D-ONUnR5ylsG",
        "outputId": "70719c96-ca27-47d8-da2b-81049550ffd9"
      },
      "execution_count": 30,
      "outputs": [
        {
          "output_type": "stream",
          "name": "stdout",
          "text": [
            "4002\n"
          ]
        }
      ]
    }
  ]
}