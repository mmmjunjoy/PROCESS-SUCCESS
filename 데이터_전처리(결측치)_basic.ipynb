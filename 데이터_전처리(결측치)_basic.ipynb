{
  "nbformat": 4,
  "nbformat_minor": 0,
  "metadata": {
    "colab": {
      "provenance": []
    },
    "kernelspec": {
      "name": "python3",
      "display_name": "Python 3"
    },
    "language_info": {
      "name": "python"
    }
  },
  "cells": [
    {
      "cell_type": "code",
      "source": [
        "#모듈 설치\n",
        "\n",
        "import pandas as pd\n",
        "import numpy as np\n",
        "\n",
        "\n",
        "#데이터 불러오기 및 인덱스 지정\n",
        "\n",
        "# 데이터프레임 읽고 초반, 후반 행 확인하기\n",
        "df = pd.read_csv(\"testset.csv\", index_col=0)\n",
        "df.head()\n",
        "df.tail()\n",
        "\n",
        "# 인덱스 지정\n",
        "df.set_index(\"iduser\", inplace=True)\n",
        "\n",
        "# 컬럼별 type 확인 및 결측치 확인\n",
        "\n",
        "\n",
        "# 데이터셋을 읽었다면, Missing Value 파악을 위해 df.info() 가장 처음에 이용하는 것을 추천한다.\n",
        "\n",
        "df.info()\n",
        "\n",
        "df.isnull().sum()\n",
        "\n",
        "\n",
        "# 결측치 부분을 메꾸는 방법\n",
        "test['viewCount'] = test['viewCount'].fillna(test.viewCount.mean())\n",
        "\n",
        "# 만약 결측치가 문자열 스페이스(' ')로 되어 있다면, np.nan으로 바꾸어 Pandas 라이브러리가 인식할수 있도록 변환\n",
        "test.viewCount = test.viewCount.replace('', np.nan)\n",
        "\n",
        "# 결측치를 제거하는 방법\n",
        "test.dropna(how='all').head() # 한 행이 모두 missing value이면 제거\n",
        "test.dropna(how='any').head() # 한 행에서 하나라도 missing value가 있으면 제거\n",
        "\n",
        "\n"
      ],
      "metadata": {
        "id": "QtYHKWQp4eMA"
      },
      "execution_count": null,
      "outputs": []
    }
  ]
}